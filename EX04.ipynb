{
 "cells": [
  {
   "cell_type": "code",
   "execution_count": 1,
   "metadata": {},
   "outputs": [],
   "source": [
    "import numpy as np\n",
    "from scipy.optimize import linprog\n",
    "from ipynb.fs.full.functions import nn2na, get_selected_arcs, arc_usage, get_min_cut"
   ]
  },
  {
   "cell_type": "code",
   "execution_count": 2,
   "metadata": {},
   "outputs": [],
   "source": [
    "#Import data\n",
    "NN = np.array([[0, 1, 1, 0, 0, 0],\n",
    "               [0, 0, 0, 1, 0, 1],\n",
    "               [0, 0, 0, 0, 1, 0],\n",
    "               [0, 0, 0, 0, 0, 1],\n",
    "               [0, 0, 0, 0, 0, 1],\n",
    "               [1, 0, 0, 0, 0, 0]])\n",
    "beq = np.array([0, 0, 0, 0, 0, 0])\n",
    "# Every arc has a cost of zero but the t->s arc has a cost of -1 in order to encourage the flow to go through it:\n",
    "C = np.array([0, 0, 0, 0, 0, 0, 0, -1])\n",
    "# Upper bounds (capacity) of each arc flow: \n",
    "upper_b = [7, 1, 2, 3, 2, 1, 2, None] # t->s arc has unlimitted capacity"
   ]
  },
  {
   "cell_type": "code",
   "execution_count": 3,
   "metadata": {},
   "outputs": [],
   "source": [
    "# DATA transforming for optimization:\n",
    "Aeq, arc_idxs,arc_idxs_list = nn2na(NN)\n",
    "bounds = tuple([(0, upper_b[arcs]) for arcs in range(0, Aeq.shape[1])])"
   ]
  },
  {
   "cell_type": "code",
   "execution_count": 4,
   "metadata": {
    "scrolled": true
   },
   "outputs": [
    {
     "name": "stdout",
     "output_type": "stream",
     "text": [
      "((0, 7), (0, 1), (0, 2), (0, 3), (0, 2), (0, 1), (0, 2), (0, None))\n"
     ]
    }
   ],
   "source": [
    "# Resulting bounds tuple:\n",
    "print(bounds)"
   ]
  },
  {
   "cell_type": "code",
   "execution_count": 5,
   "metadata": {},
   "outputs": [
    {
     "name": "stderr",
     "output_type": "stream",
     "text": [
      "C:\\Users\\joaquin\\Anaconda3\\lib\\site-packages\\ipykernel_launcher.py:2: OptimizeWarning: A_eq does not appear to be of full row rank. To improve performance, check the problem formulation for redundant equality constraints.\n",
      "  \n"
     ]
    },
    {
     "data": {
      "text/plain": [
       "'Optimization terminated successfully.'"
      ]
     },
     "execution_count": 5,
     "metadata": {},
     "output_type": "execute_result"
    }
   ],
   "source": [
    "# OPTIMIZE:\n",
    "res = linprog(C, A_eq=Aeq, b_eq=beq, bounds=bounds, method='simplex')\n",
    "res.message"
   ]
  },
  {
   "cell_type": "code",
   "execution_count": 6,
   "metadata": {},
   "outputs": [],
   "source": [
    "# Results equations\n",
    "arc_use = arc_usage(arc_idxs, res.x.astype(int)) # Function to bring flow and indexes of each arc\n",
    "result = res.fun*(-1)\n",
    "mincut = get_min_cut(arc_idxs, res.x, np.array(upper_b))"
   ]
  },
  {
   "cell_type": "code",
   "execution_count": 7,
   "metadata": {},
   "outputs": [
    {
     "name": "stdout",
     "output_type": "stream",
     "text": [
      "### Results of Max Flow ### \n",
      "The max flow circulating across the system is: 5.0 \n",
      "The flow circulating through each arc is: {(0, 1): 4, (0, 2): 1, (1, 3): 1, (1, 5): 3, (2, 4): 1, (3, 5): 1, (4, 5): 1, (5, 0): 5} \n",
      "The arcs that form the minimum cut are: [(0, 2), (1, 5), (3, 5)]\n"
     ]
    }
   ],
   "source": [
    "print('### Results of Max Flow ### \\n'\n",
    "      'The max flow circulating across the system is: %s \\n'\n",
    "      'The flow circulating through each arc is: %s \\n'\n",
    "      'The arcs that form the minimum cut are: %s'%(result, arc_use, mincut))"
   ]
  },
  {
   "cell_type": "markdown",
   "metadata": {},
   "source": [
    "### CONCLUSION\n",
    "From t->s the flow is 5. So that is the maximum flow circulating through the system given those capacities. The flow through the arcs of minimum cut add up to 5. It represents the dual of the original problem. That is because in the optimal point, the maximum of the primal is equal to the minimum of the dual."
   ]
  }
 ],
 "metadata": {
  "kernelspec": {
   "display_name": "Python 3",
   "language": "python",
   "name": "python3"
  },
  "language_info": {
   "codemirror_mode": {
    "name": "ipython",
    "version": 3
   },
   "file_extension": ".py",
   "mimetype": "text/x-python",
   "name": "python",
   "nbconvert_exporter": "python",
   "pygments_lexer": "ipython3",
   "version": "3.7.3"
  }
 },
 "nbformat": 4,
 "nbformat_minor": 2
}
