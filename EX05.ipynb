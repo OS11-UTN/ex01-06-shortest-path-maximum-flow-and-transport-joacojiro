{
 "cells": [
  {
   "cell_type": "code",
   "execution_count": 1,
   "metadata": {},
   "outputs": [],
   "source": [
    "import numpy as np"
   ]
  },
  {
   "cell_type": "code",
   "execution_count": 2,
   "metadata": {},
   "outputs": [],
   "source": [
    "#Import data\n",
    "residual_G = np.array([[0, 7, 1, 0, 0, 0], #s\n",
    "                       [0, 0, 0, 2, 0, 3], #2\n",
    "                       [0, 0, 0, 0, 2, 0], #3\n",
    "                       [0, 0, 0, 0, 0, 1], #4\n",
    "                       [0, 0, 0, 0, 0, 2], #5\n",
    "                       [0, 0, 0, 0, 0, 0]]) #t\n",
    "succ = [[1, 2], [3, 5], [4], [5], [5], []]\n",
    "\n",
    "# Other possibilities:\n",
    "#residual_G = [[7, 1, 2, 3, 2, 1, 2], [0, 0, 0, 0, 0, 0, 0]]\n",
    "#succ = {'s':[2, 3], 2:[4, 't'], 3:['5'], 4:['t'], 5:['t']}"
   ]
  },
  {
   "cell_type": "code",
   "execution_count": 3,
   "metadata": {},
   "outputs": [],
   "source": [
    "def dfs(actual, end, path, succ):\n",
    "    if actual != end:\n",
    "        for nextt in succ[actual]:\n",
    "            dfs(nextt, end, path, succ)\n",
    "            if path != []:\n",
    "                path.append(actual) #\n",
    "                break\n",
    "        \n",
    "    else:\n",
    "        path.append(actual)# \n",
    "        return path\n",
    "    return path\n"
   ]
  },
  {
   "cell_type": "code",
   "execution_count": 4,
   "metadata": {
    "scrolled": true
   },
   "outputs": [
    {
     "data": {
      "text/plain": [
       "[5, 3, 1, 0]"
      ]
     },
     "execution_count": 4,
     "metadata": {},
     "output_type": "execute_result"
    }
   ],
   "source": [
    "path = []\n",
    "total_flow = 0\n",
    "final_paths =[]\n",
    "path = dfs(0, 5, path, succ)\n",
    "path"
   ]
  },
  {
   "cell_type": "code",
   "execution_count": 5,
   "metadata": {},
   "outputs": [
    {
     "name": "stdout",
     "output_type": "stream",
     "text": [
      "Path: [5, 3, 1, 0] \n",
      "Arc´s indpendent Flow: [1, 2, 7] \n",
      "Path Flow: 1\n",
      "Resulting Residuals: [[0 6 1 0 0 0]\n",
      " [1 0 0 1 0 3]\n",
      " [0 0 0 0 2 0]\n",
      " [0 1 0 0 0 0]\n",
      " [0 0 0 0 0 2]\n",
      " [0 0 0 1 0 0]] \n",
      "Actualized succesors: [[1, 2], [3, 5], [4], [], [5], []] \n",
      "\n",
      "Path: [5, 1, 0] \n",
      "Arc´s indpendent Flow: [3, 6] \n",
      "Path Flow: 3\n",
      "Resulting Residuals: [[0 3 1 0 0 0]\n",
      " [4 0 0 1 0 0]\n",
      " [0 0 0 0 2 0]\n",
      " [0 1 0 0 0 0]\n",
      " [0 0 0 0 0 2]\n",
      " [0 3 0 1 0 0]] \n",
      "Actualized succesors: [[1, 2], [3], [4], [], [5], []] \n",
      "\n",
      "Path: [5, 4, 2, 0] \n",
      "Arc´s indpendent Flow: [2, 2, 1] \n",
      "Path Flow: 1\n",
      "Resulting Residuals: [[0 3 0 0 0 0]\n",
      " [4 0 0 1 0 0]\n",
      " [1 0 0 0 1 0]\n",
      " [0 1 0 0 0 0]\n",
      " [0 0 1 0 0 1]\n",
      " [0 3 0 1 1 0]] \n",
      "Actualized succesors: [[1], [3], [4], [], [5], []] \n",
      "\n"
     ]
    }
   ],
   "source": [
    "while path != []:\n",
    "    path_arcs = [ [path[i+1], path[i] ] for i in range(len(path)-1)]\n",
    "    arcs_flow = [residual_G[i,j] for i,j in path_arcs]\n",
    "    path_flow = min(arcs_flow)\n",
    "    total_flow = total_flow + path_flow # Accumulate flows\n",
    "    final_paths.append(path) # Appends paths\n",
    "    print ('Path: %s \\n'\n",
    "           'Arc´s indpendent Flow: %s \\n'\n",
    "           'Path Flow: %s'%(path, arcs_flow, path_flow))\n",
    "    \n",
    "    for i,j in path_arcs:\n",
    "        residual_G[i,j] = residual_G[i,j] - path_flow\n",
    "        residual_G[j,i] = residual_G[j,i] + path_flow\n",
    "        if residual_G[i][j] > 0:\n",
    "            succ[i].append(j)\n",
    "            succ[i] = list(set(succ[i]))\n",
    "        else:\n",
    "            succ[i].remove(j)\n",
    "    print('Resulting Residuals: %s \\n'\n",
    "          'Actualized succesors: %s \\n'%(residual_G, succ))\n",
    "    \n",
    "    path = []\n",
    "    path = dfs(0, 5, path, succ)\n"
   ]
  },
  {
   "cell_type": "code",
   "execution_count": 6,
   "metadata": {},
   "outputs": [
    {
     "name": "stdout",
     "output_type": "stream",
     "text": [
      "The total Flow through the network is: 5\n"
     ]
    }
   ],
   "source": [
    "print('The total Flow through the network is: %s'%(total_flow))"
   ]
  },
  {
   "cell_type": "code",
   "execution_count": null,
   "metadata": {},
   "outputs": [],
   "source": []
  }
 ],
 "metadata": {
  "kernelspec": {
   "display_name": "Python 3",
   "language": "python",
   "name": "python3"
  },
  "language_info": {
   "codemirror_mode": {
    "name": "ipython",
    "version": 3
   },
   "file_extension": ".py",
   "mimetype": "text/x-python",
   "name": "python",
   "nbconvert_exporter": "python",
   "pygments_lexer": "ipython3",
   "version": "3.7.3"
  }
 },
 "nbformat": 4,
 "nbformat_minor": 2
}
