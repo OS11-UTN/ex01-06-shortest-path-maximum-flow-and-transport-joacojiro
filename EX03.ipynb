{
 "cells": [
  {
   "cell_type": "code",
   "execution_count": 1,
   "metadata": {},
   "outputs": [],
   "source": [
    "import numpy as np\n",
    "from ipynb.fs.full.functions import invpath"
   ]
  },
  {
   "cell_type": "code",
   "execution_count": 2,
   "metadata": {},
   "outputs": [],
   "source": [
    "# Create Node-Node matrix with every weight.\n",
    "C = np.array([[0, 2, 2, 0, 0, 0],\n",
    "              [0, 0, 0, 2, 0, 5],\n",
    "              [0, 0, 0, 0, 2, 0],\n",
    "              [0, 0, 0, 0, 0, 1],\n",
    "              [0, 0, 0, 0, 0, 2],\n",
    "              [0, 0, 0, 0, 0, 0]])\n",
    "# Create a list of all succeding nodes:\n",
    "succ = [[1, 2], [3, 5], [4], [5], [5],[]]"
   ]
  },
  {
   "cell_type": "code",
   "execution_count": 3,
   "metadata": {},
   "outputs": [],
   "source": [
    "# Initialize weights. Later on this weights will be updated:\n",
    "n_nodes = 6\n",
    "first_node = 0\n",
    "weights = np.ones(n_nodes)\n",
    "weights = weights * np.inf\n",
    "weights[first_node] = 0"
   ]
  },
  {
   "cell_type": "code",
   "execution_count": 4,
   "metadata": {},
   "outputs": [],
   "source": [
    "# Initialize unexplored nodes.\n",
    "unexp_nodes = [0, 1, 2, 3, 4, 5]"
   ]
  },
  {
   "cell_type": "code",
   "execution_count": 5,
   "metadata": {},
   "outputs": [],
   "source": [
    "# Define list of nodes that in SP will precede each other\n",
    "preced = [0, 0, 0, 0, 0, 0]"
   ]
  },
  {
   "cell_type": "code",
   "execution_count": 6,
   "metadata": {},
   "outputs": [],
   "source": [
    "# Dijkstra algorithm:\n",
    "while unexp_nodes != []:\n",
    "    weights_unexplored = weights[unexp_nodes]\n",
    "    index = np.argmin(weights_unexplored)\n",
    "    actual = unexp_nodes[index]\n",
    "    unexp_nodes.pop(index)\n",
    "    for i in succ[actual]:\n",
    "        pot_weight = weights[actual] + C[actual, i]\n",
    "        if pot_weight < weights[i]:\n",
    "            weights[i] = pot_weight\n",
    "            preced[i] = actual\n"
   ]
  },
  {
   "cell_type": "code",
   "execution_count": 7,
   "metadata": {},
   "outputs": [
    {
     "name": "stdout",
     "output_type": "stream",
     "text": [
      "### Shortest Path ### \n",
      "Shortest path distance from s to t: 5.0 \n",
      "The path goes through nodes: [0, 1, 3, 5] \n",
      "\n"
     ]
    }
   ],
   "source": [
    "print('### Shortest Path ### \\n'\n",
    "      'Shortest path distance from s to t: %s \\n'\n",
    "     'The path goes through nodes: %s \\n' % (weights[5], invpath(preced)))"
   ]
  },
  {
   "cell_type": "code",
   "execution_count": 8,
   "metadata": {},
   "outputs": [
    {
     "name": "stdout",
     "output_type": "stream",
     "text": [
      "[0, 0, 0, 1, 2, 3] [] [0. 2. 2. 4. 4. 5.]\n"
     ]
    }
   ],
   "source": [
    "print(preced,unexp_nodes, weights)"
   ]
  },
  {
   "cell_type": "code",
   "execution_count": null,
   "metadata": {},
   "outputs": [],
   "source": []
  }
 ],
 "metadata": {
  "kernelspec": {
   "display_name": "Python 3",
   "language": "python",
   "name": "python3"
  },
  "language_info": {
   "codemirror_mode": {
    "name": "ipython",
    "version": 3
   },
   "file_extension": ".py",
   "mimetype": "text/x-python",
   "name": "python",
   "nbconvert_exporter": "python",
   "pygments_lexer": "ipython3",
   "version": "3.7.3"
  }
 },
 "nbformat": 4,
 "nbformat_minor": 2
}
