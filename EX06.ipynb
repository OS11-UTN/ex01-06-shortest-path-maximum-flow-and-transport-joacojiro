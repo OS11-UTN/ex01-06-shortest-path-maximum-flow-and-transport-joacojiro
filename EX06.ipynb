{
 "cells": [
  {
   "cell_type": "code",
   "execution_count": 1,
   "metadata": {},
   "outputs": [],
   "source": [
    "import numpy as np\n",
    "from scipy.optimize import linprog\n",
    "from ipynb.fs.full.functions import nn2na, arcs_w_flow"
   ]
  },
  {
   "cell_type": "code",
   "execution_count": 2,
   "metadata": {},
   "outputs": [],
   "source": [
    "#Import data\n",
    "NN = np.array([[0, 0, 0, 1, 1],\n",
    "               [0, 0, 0, 1, 1],\n",
    "               [0, 0, 0, 1, 1],\n",
    "               [0, 0, 0, 0, 0],\n",
    "               [0, 0, 0, 0, 0]])\n",
    "beq = np.array([10, 20, 15, -25, -20])\n",
    "C = np.array([10, 20, 10, 10, 10, 30])"
   ]
  },
  {
   "cell_type": "code",
   "execution_count": 3,
   "metadata": {},
   "outputs": [],
   "source": [
    "# DATA transforming for optimization:\n",
    "Aeq, arc_idxs = nn2na(NN)\n",
    "bounds = tuple([(0, None) for arcs in range(0, Aeq.shape[1])])"
   ]
  },
  {
   "cell_type": "code",
   "execution_count": 4,
   "metadata": {},
   "outputs": [
    {
     "name": "stdout",
     "output_type": "stream",
     "text": [
      "## Optimizer inputs ## \n",
      "Cost vector: [10 20 10 10 10 30] \n",
      "A_eq Node-Arc matrix:\n",
      "[[ 1  1  0  0  0  0]\n",
      " [ 0  0  1  1  0  0]\n",
      " [ 0  0  0  0  1  1]\n",
      " [-1  0 -1  0 -1  0]\n",
      " [ 0 -1  0 -1  0 -1]] \n",
      "b_eq demand-supply vector: [ 10  20  15 -25 -20] \n",
      "Bounds of each X arc variable: ((0, None), (0, None), (0, None), (0, None), (0, None), (0, None)) \n",
      "\n"
     ]
    }
   ],
   "source": [
    "print('## Optimizer inputs ## \\n'\n",
    "      'Cost vector: %s \\n'\n",
    "      'A_eq Node-Arc matrix:\\n%s \\n'\n",
    "      'b_eq demand-supply vector: %s \\n'\n",
    "      'Bounds of each X arc variable: %s \\n' % (C, Aeq, beq, bounds)) "
   ]
  },
  {
   "cell_type": "code",
   "execution_count": 5,
   "metadata": {
    "scrolled": true
   },
   "outputs": [
    {
     "name": "stderr",
     "output_type": "stream",
     "text": [
      "C:\\Users\\joaquin\\Anaconda3\\lib\\site-packages\\scipy\\optimize\\_linprog_util.py:704: OptimizeWarning: A_eq does not appear to be of full row rank. To improve performance, check the problem formulation for redundant equality constraints.\n",
      "  warn(redundancy_warning, OptimizeWarning)\n"
     ]
    }
   ],
   "source": [
    "# OPTIMIZE:\n",
    "res = linprog(C, A_eq=Aeq, b_eq=beq, bounds=bounds, method='simplex')"
   ]
  },
  {
   "cell_type": "code",
   "execution_count": 6,
   "metadata": {},
   "outputs": [
    {
     "name": "stdout",
     "output_type": "stream",
     "text": [
      "[10.  0.  0. 20. 15.  0.] 450.0\n"
     ]
    }
   ],
   "source": [
    "print(res.x, res.fun)"
   ]
  },
  {
   "cell_type": "code",
   "execution_count": 7,
   "metadata": {
    "scrolled": false
   },
   "outputs": [
    {
     "name": "stdout",
     "output_type": "stream",
     "text": [
      "## Transport results ## \n",
      "The minimum cost to transport every unit is: 450.0 \n",
      "The units to be transported through each arc are (from, to): {(0, 3): 10.0, (1, 4): 20.0, (2, 3): 15.0} \n",
      "\n"
     ]
    }
   ],
   "source": [
    "# PRESENTING THE SOLUTION:\n",
    "arcs_flow = arcs_w_flow(arc_idxs, res.x)\n",
    "print('## Transport results ## \\n'\n",
    "      'The minimum cost to transport every unit is: %s \\n'\n",
    "      'The units to be transported through each arc are (from, to): %s \\n'%(res.fun, arcs_flow))"
   ]
  }
 ],
 "metadata": {
  "kernelspec": {
   "display_name": "Python 3",
   "language": "python",
   "name": "python3"
  },
  "language_info": {
   "codemirror_mode": {
    "name": "ipython",
    "version": 3
   },
   "file_extension": ".py",
   "mimetype": "text/x-python",
   "name": "python",
   "nbconvert_exporter": "python",
   "pygments_lexer": "ipython3",
   "version": "3.7.3"
  }
 },
 "nbformat": 4,
 "nbformat_minor": 2
}
